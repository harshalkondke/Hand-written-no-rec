{
  "nbformat": 4,
  "nbformat_minor": 0,
  "metadata": {
    "colab": {
      "name": "HandWrittenNoREC.ipynb",
      "version": "0.3.2",
      "provenance": [],
      "collapsed_sections": [],
      "include_colab_link": true
    },
    "kernelspec": {
      "name": "python3",
      "display_name": "Python 3"
    }
  },
  "cells": [
    {
      "cell_type": "markdown",
      "metadata": {
        "id": "view-in-github",
        "colab_type": "text"
      },
      "source": [
        "<a href=\"https://colab.research.google.com/github/harshalkondke/Hand-written-no-rec/blob/master/HandWrittenNoREC.ipynb\" target=\"_parent\"><img src=\"https://colab.research.google.com/assets/colab-badge.svg\" alt=\"Open In Colab\"/></a>"
      ]
    },
    {
      "cell_type": "code",
      "metadata": {
        "id": "vkV7kqeqrz7Q",
        "colab_type": "code",
        "colab": {}
      },
      "source": [
        "# will download the database of images from MNIST website\n",
        "import gzip\n",
        "import os\n",
        "import numpy as np\n",
        "\n",
        "\n",
        "def load_dataset():\n",
        "    def download(filename, source='http://yann.lecun.com/exdb/mnist/'):\n",
        "        print (\"Downloading\", filename)\n",
        "        import urllib.request\n",
        "        urllib.request.urlretrieve(source+filename,filename)\n",
        "        # will store the downloaded file in local disk\n",
        "\n",
        "    def load_mnist_images(filename):\n",
        "        if not os.path.exists(filename):\n",
        "            download(filename)\n",
        "        # check if file is available if not will download it\n",
        "        \n",
        "        with gzip.open(filename, 'rb') as f:\n",
        "            # open the zp file of images\n",
        "\n",
        "            data = np.frombuffer(f.read(), np.uint8, offset=16)\n",
        "\n",
        "            data = data.reshape(-1, 1, 28, 28)\n",
        "            # the first dimension is the number of images, by making this -1\n",
        "            # second dimension is number of channels here it is 1 bcs its monocom image\n",
        "            # the third and fourth dimension are the size if the image 28x28\n",
        "            return data/np.float32(256)\n",
        "\n",
        "    def load_mnist_labels(filename):\n",
        "        if not os.path.exists(filename):\n",
        "            download(filename)\n",
        "\n",
        "        with gzip.open(filename, 'rb') as f:\n",
        "            data = np.frombuffer(f.read(), np.uint8, offset=8)\n",
        "\n",
        "        return data\n",
        "\n",
        "    X_train = load_mnist_images('train-images-idx3-ubyte.gz')\n",
        "    y_train = load_mnist_labels('train-labels-idx1-ubyte.gz')\n",
        "    X_test = load_mnist_images('t10k-images-idx3-ubyte.gz')\n",
        "    y_test = load_mnist_labels('t10k-labels-idx1-ubyte.gz')\n",
        "\n",
        "    return X_train, y_train, X_test, y_test"
      ],
      "execution_count": 0,
      "outputs": []
    },
    {
      "cell_type": "code",
      "metadata": {
        "id": "By6Y7kR4sOtK",
        "colab_type": "code",
        "colab": {}
      },
      "source": [
        "X_train, y_train, X_test, y_test = load_dataset()"
      ],
      "execution_count": 0,
      "outputs": []
    },
    {
      "cell_type": "code",
      "metadata": {
        "id": "A5je_Pu2sUFa",
        "colab_type": "code",
        "colab": {}
      },
      "source": [
        "import matplotlib.pyplot as plt\n",
        "plt.show(plt.imshow(X_train[2][0]))"
      ],
      "execution_count": 0,
      "outputs": []
    },
    {
      "cell_type": "markdown",
      "metadata": {
        "id": "xK5Tyh-D3XaT",
        "colab_type": "text"
      },
      "source": [
        "if lasagne is not present in your colab, exicute this line of code"
      ]
    },
    {
      "cell_type": "code",
      "metadata": {
        "id": "5C7-1IdD3PDd",
        "colab_type": "code",
        "colab": {}
      },
      "source": [
        "!pip install git+https://github.com/Lasagne/Lasagne\n",
        "!pip install --upgrade --no-deps git+git://github.com/Theano/Theano.git --user"
      ],
      "execution_count": 0,
      "outputs": []
    },
    {
      "cell_type": "code",
      "metadata": {
        "id": "nujPQ3ZusoDx",
        "colab_type": "code",
        "colab": {}
      },
      "source": [
        "import lasagne\n",
        "import theano\n",
        "import theano.tensor as T\n",
        "\n",
        "def build_NN(input_var=None):\n",
        "  # creating neural network with 2 hidden layers of 800 nodes each\n",
        "  l_in = lasagne.layers.InputLayer(shape=(None, 1, 28, 28), input_var=input_var)\n",
        "  l_in_drop = lasagne.layers.DropoutLayer(l_in,p=0.2)\n",
        "  \n",
        "  l_hid1 = lasagne.layers.DenseLayer(l_in_drop, num_units=800, nonlinearity=lasagne.nonlinearities.rectify, W=lasagne.init.GlorotUniform())\n",
        "  l_hid1_drop = lasagne.layers.DropoutLayer(l_hid1, p=0.5)\n",
        "  \n",
        "  l_hid2 = lasagne.layers.DenseLayer(l_hid1_drop, num_units=800, nonlinearity=lasagne.nonlinearities.rectify, W=lasagne.init.GlorotUniform())\n",
        "  l_hid2_drop = lasagne.layers.DropoutLayer(l_hid2, p=0.5)\n",
        "  \n",
        "  l_out = lasagne.layers.DenseLayer(l_hid2_drop, num_units=10, nonlinearity=lasagne.nonlinearities.softmax)\n",
        "  \n",
        "  return l_out \n",
        "  "
      ],
      "execution_count": 0,
      "outputs": []
    },
    {
      "cell_type": "code",
      "metadata": {
        "id": "FGS8tycB2Ydo",
        "colab_type": "code",
        "colab": {}
      },
      "source": [
        "input_var = T.tensor4('inputs') # 4d empty array\n",
        "target_var = T.ivector('targets') # 2d linear array\n",
        "\n",
        "network = build_NN(input_var)\n",
        "\n",
        "prediction = lasagne.layers.get_output(network)\n",
        "loss = lasagne.objectives.categorical_crossentropy(prediction, target_var)\n",
        "\n",
        "loss = loss.mean()\n",
        "\n",
        "params = lasagne.layers.get_all_params(network, trainable=True)\n",
        "updates = lasagne.updates.nesterov_momentum(loss, params, learning_rate=0.01, momentum = 0.9)\n",
        "\n",
        "train_fn = theano.function([input_var, target_var], loss, updates=updates)\n"
      ],
      "execution_count": 0,
      "outputs": []
    },
    {
      "cell_type": "code",
      "metadata": {
        "id": "xflGn6sf5W_Q",
        "colab_type": "code",
        "colab": {
          "base_uri": "https://localhost:8080/",
          "height": 295
        },
        "outputId": "5ae45783-d290-483f-9399-3f0a16c31656"
      },
      "source": [
        "num_training_steps = 100\n",
        "\n",
        "for step in range(num_training_steps):\n",
        "  train_err = train_fn(X_train, y_train)\n",
        "  print(\"Current step is \"+str(step))"
      ],
      "execution_count": 0,
      "outputs": [
        {
          "output_type": "stream",
          "text": [
            "Current step is 0\n",
            "Current step is 1\n",
            "Current step is 2\n",
            "Current step is 3\n",
            "Current step is 4\n",
            "Current step is 5\n",
            "Current step is 6\n",
            "Current step is 7\n",
            "Current step is 8\n",
            "Current step is 9\n",
            "Current step is 10\n",
            "Current step is 11\n",
            "Current step is 12\n",
            "Current step is 13\n",
            "Current step is 14\n",
            "Current step is 15\n"
          ],
          "name": "stdout"
        }
      ]
    },
    {
      "cell_type": "code",
      "metadata": {
        "id": "Wve4WsSy9xBk",
        "colab_type": "code",
        "colab": {}
      },
      "source": [
        "test_prediction = lasagne.layers.get_output(network)\n",
        "val_fn = theano.function([input_var], test_prediction)\n",
        "\n",
        "val_fn([X_test[2]])"
      ],
      "execution_count": 0,
      "outputs": []
    },
    {
      "cell_type": "markdown",
      "metadata": {
        "id": "OnbpdIuF-Nqe",
        "colab_type": "text"
      },
      "source": [
        "check if the pridicted label is same as its original "
      ]
    },
    {
      "cell_type": "code",
      "metadata": {
        "id": "c3DLcrth-VmF",
        "colab_type": "code",
        "colab": {}
      },
      "source": [
        "y_test[2]"
      ],
      "execution_count": 0,
      "outputs": []
    },
    {
      "cell_type": "code",
      "metadata": {
        "id": "XfNgHSOy-ZST",
        "colab_type": "code",
        "colab": {}
      },
      "source": [
        "test_prediction = lasagne.layers.get_output(network, deterministic=True)\n",
        "test_acc = T.mean(T.eq(T.argmax(test_prediction, axis=1), target_var), dtype=theano.config.floatX)\n",
        "\n",
        "acc_fn = theano.function([input_var, target_var], test_acc)\n",
        "\n",
        "acc_fn(X_test, y_test)"
      ],
      "execution_count": 0,
      "outputs": []
    }
  ]
}